{
 "cells": [
  {
   "cell_type": "code",
   "execution_count": 3,
   "id": "61db8112-54e6-4773-ae6a-39e618a1fc57",
   "metadata": {},
   "outputs": [
    {
     "name": "stdout",
     "output_type": "stream",
     "text": [
      "Listen...\n"
     ]
    }
   ],
   "source": [
    "import speech_recognition as sr\n",
    "import pyttsx3\n",
    "import pywhatkit\n",
    "\n",
    "\n",
    "def talk(command):\n",
    "    engine=pyttsx3.init()\n",
    "    voice=engine.getProperty('voices')\n",
    "    engine.setProperty('voice',voice[1].id)\n",
    "    engine.say(\"Playing\"+command)\n",
    "\n",
    "\n",
    "def takeCommand():\n",
    "    Listener=sr.Recognizer()\n",
    "    try:\n",
    "        with sr.Microphone() as source:\n",
    "            print(\"Listen...\")\n",
    "            Listener.pause_threshold = 1\n",
    "            voice=Listener.listen(source)\n",
    "            command=Listener.recognize_google(voice)\n",
    "            song=command.replace(\"play\",'')\n",
    "            talk(song)\n",
    "            pywhatkit.playonyt(song)\n",
    "    except:\n",
    "        pass\n",
    "\n",
    "\n",
    "takeCommand()\n",
    "\n"
   ]
  },
  {
   "cell_type": "code",
   "execution_count": null,
   "id": "a88651e8-aa62-47e9-999c-0a201d55b6ed",
   "metadata": {},
   "outputs": [],
   "source": []
  }
 ],
 "metadata": {
  "kernelspec": {
   "display_name": "Python 3 (ipykernel)",
   "language": "python",
   "name": "python3"
  },
  "language_info": {
   "codemirror_mode": {
    "name": "ipython",
    "version": 3
   },
   "file_extension": ".py",
   "mimetype": "text/x-python",
   "name": "python",
   "nbconvert_exporter": "python",
   "pygments_lexer": "ipython3",
   "version": "3.10.6"
  }
 },
 "nbformat": 4,
 "nbformat_minor": 5
}
