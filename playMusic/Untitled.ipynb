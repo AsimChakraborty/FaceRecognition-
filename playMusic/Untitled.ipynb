{
 "cells": [
  {
   "cell_type": "code",
   "execution_count": 3,
   "id": "5dc875f8-4155-4d2e-810b-d5da6515e102",
   "metadata": {},
   "outputs": [
    {
     "name": "stdout",
     "output_type": "stream",
     "text": [
      "Listen\n"
     ]
    }
   ],
   "source": [
    "import speech_recognition as sr\n",
    "import pyaudio\n",
    "import pyttsx3\n",
    "import pywhatkit\n",
    "\n",
    "\n",
    "def talk(command):\n",
    "    engine=pyttsx3.init()\n",
    "    voice=engine.getProperty('voices')\n",
    "    engine.setProperty('voice',voice[1].id)\n",
    "    engine.say(\"Playing\"+ command)\n",
    "    engine.runAndWait()\n",
    "\n",
    "def takeCommand():\n",
    "    Listener=sr.Recognizer()\n",
    "    try:\n",
    "        with sr.Microphone() as source:\n",
    "            print(\"Listen\")\n",
    "            voice=Listener.Listen(source)\n",
    "            command=Listener.recognize_google(voice)\n",
    "            song=command.replace('play','')\n",
    "            talk(song)\n",
    "            pywhatkit.playonyt(song)\n",
    "\n",
    "    except:\n",
    "       \n",
    "        pass\n",
    "\n",
    "takeCommand()\n",
    "\n"
   ]
  },
  {
   "cell_type": "code",
   "execution_count": null,
   "id": "4a306f69-d768-4706-bff9-810c21bf0ac1",
   "metadata": {},
   "outputs": [],
   "source": []
  }
 ],
 "metadata": {
  "kernelspec": {
   "display_name": "Python 3 (ipykernel)",
   "language": "python",
   "name": "python3"
  },
  "language_info": {
   "codemirror_mode": {
    "name": "ipython",
    "version": 3
   },
   "file_extension": ".py",
   "mimetype": "text/x-python",
   "name": "python",
   "nbconvert_exporter": "python",
   "pygments_lexer": "ipython3",
   "version": "3.10.6"
  }
 },
 "nbformat": 4,
 "nbformat_minor": 5
}
