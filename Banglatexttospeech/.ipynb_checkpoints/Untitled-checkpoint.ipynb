{
 "cells": [
  {
   "cell_type": "code",
   "execution_count": null,
   "id": "530b65b5-31fc-4197-8e43-923b9aa55826",
   "metadata": {},
   "outputs": [],
   "source": [
    "from gtts import gTTS\n",
    "from playsound import playsound\n",
    "import os\n",
    "from pathlib import Path\n",
    "\n",
    "voice = gTTS(\n",
    "    text=\"আমি হুমায়ূন আহমেদের বিশেষ করে\",\n",
    "    lang='bn')\n",
    "voice.save('good.mp3')\n",
    "os.system(\"mpg321 good.mp3\")\n",
    "playsound(\"good.mp3\", False)"
   ]
  }
 ],
 "metadata": {
  "kernelspec": {
   "display_name": "Python 3 (ipykernel)",
   "language": "python",
   "name": "python3"
  },
  "language_info": {
   "codemirror_mode": {
    "name": "ipython",
    "version": 3
   },
   "file_extension": ".py",
   "mimetype": "text/x-python",
   "name": "python",
   "nbconvert_exporter": "python",
   "pygments_lexer": "ipython3",
   "version": "3.10.6"
  }
 },
 "nbformat": 4,
 "nbformat_minor": 5
}
