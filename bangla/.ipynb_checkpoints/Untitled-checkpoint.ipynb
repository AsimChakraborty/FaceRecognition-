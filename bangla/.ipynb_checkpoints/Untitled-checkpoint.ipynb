{
 "cells": [
  {
   "cell_type": "code",
   "execution_count": 1,
   "id": "f82034e1-9883-4a82-8c57-d207c83d65f9",
   "metadata": {},
   "outputs": [],
   "source": [
    "from gtts import gTTS\n",
    "from playsound import playsound\n",
    "import os\n",
    "from pathlib import Path\n",
    "import pyttsx3\n",
    "\n",
    "voice = gTTS(\n",
    "    text=\"আমি হুমায়ূন আহমেদের বিশেষ করে তার লেখার একজন একনিষ্ঠ ভক্ত। কেন আমি তার ভক্ত তা আমি কখনো স্পষ্টভাবে ব্যাখ্যা করতে পারব না।\",\n",
    "    lang='bn')\n",
    "# os.system(\"mpg321 good.mp3\")\n",
    "# playsound(\"good.mp3\", False)\n",
    "# text = voice.extractText()\n",
    "# print(text)\n",
    "play = pyttsx3.init()\n",
    "play.say(voice)\n",
    "play.runAndWait()"
   ]
  },
  {
   "cell_type": "code",
   "execution_count": null,
   "id": "ee382cfd-27a0-4017-8a5c-843255379204",
   "metadata": {},
   "outputs": [],
   "source": []
  }
 ],
 "metadata": {
  "kernelspec": {
   "display_name": "Python 3 (ipykernel)",
   "language": "python",
   "name": "python3"
  },
  "language_info": {
   "codemirror_mode": {
    "name": "ipython",
    "version": 3
   },
   "file_extension": ".py",
   "mimetype": "text/x-python",
   "name": "python",
   "nbconvert_exporter": "python",
   "pygments_lexer": "ipython3",
   "version": "3.10.6"
  }
 },
 "nbformat": 4,
 "nbformat_minor": 5
}
