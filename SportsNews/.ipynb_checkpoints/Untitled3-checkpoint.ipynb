{
 "cells": [
  {
   "cell_type": "code",
   "execution_count": 1,
   "id": "521dfc5d-54e0-4118-9636-11d036e08980",
   "metadata": {},
   "outputs": [
    {
     "name": "stdout",
     "output_type": "stream",
     "text": [
      "^C\n",
      "Note: you may need to restart the kernel to use updated packages.\n"
     ]
    }
   ],
   "source": [
    "pip uninstall playsound"
   ]
  },
  {
   "cell_type": "code",
   "execution_count": 9,
   "id": "d0f2f576-f152-49ff-8768-ace02f304f44",
   "metadata": {},
   "outputs": [
    {
     "name": "stdout",
     "output_type": "stream",
     "text": [
      "Collecting playsound==1.2.\n",
      "  Downloading playsound-1.2.0.tar.gz (4.8 kB)\n",
      "  Preparing metadata (setup.py): started\n",
      "  Preparing metadata (setup.py): finished with status 'done'\n",
      "Building wheels for collected packages: playsound\n",
      "  Building wheel for playsound (setup.py): started\n",
      "  Building wheel for playsound (setup.py): finished with status 'done'\n",
      "  Created wheel for playsound: filename=playsound-1.2.0-py3-none-any.whl size=4665 sha256=dc4b0d5058c093a8a24ba531bf094049ad58a8288fbbcb5844f8cdfb46941a59\n",
      "  Stored in directory: c:\\users\\hp\\appdata\\local\\pip\\cache\\wheels\\40\\7c\\a6\\b75e295b051a38ecd7604e6b3c4437538fa0921face6aa8f60\n",
      "Successfully built playsound\n",
      "Installing collected packages: playsound\n",
      "  Attempting uninstall: playsound\n",
      "    Found existing installation: playsound 1.2.2\n",
      "    Uninstalling playsound-1.2.2:\n",
      "      Successfully uninstalled playsound-1.2.2\n",
      "Successfully installed playsound-1.2.0\n",
      "Note: you may need to restart the kernel to use updated packages.\n"
     ]
    }
   ],
   "source": [
    "pip install playsound==1.2."
   ]
  },
  {
   "cell_type": "code",
   "execution_count": null,
   "id": "12b294f1-17bd-4cff-bb3b-7fe199a3851e",
   "metadata": {},
   "outputs": [],
   "source": [
    "from gtts import gTTS\n",
    "from playsound import playsound\n",
    "import os\n",
    "from pathlib import Path\n",
    "\n",
    "voice = gTTS(\n",
    "    text=\"আমি হুমায়ূন আহমেদের বিশেষ করে তার লেখার একজন একনিষ্ঠ ভক্ত। কেন আমি তার ভক্ত তা আমি কখনো স্পষ্টভাবে ব্যাখ্যা করতে পারব না।\",\n",
    "    lang='bn')\n",
    "voice.save('good.mp3')\n",
    "os.system(\"mpg321 good.mp3\")\n",
    "playsound(\"good.mp3\", False)"
   ]
  }
 ],
 "metadata": {
  "kernelspec": {
   "display_name": "Python 3 (ipykernel)",
   "language": "python",
   "name": "python3"
  },
  "language_info": {
   "codemirror_mode": {
    "name": "ipython",
    "version": 3
   },
   "file_extension": ".py",
   "mimetype": "text/x-python",
   "name": "python",
   "nbconvert_exporter": "python",
   "pygments_lexer": "ipython3",
   "version": "3.10.6"
  }
 },
 "nbformat": 4,
 "nbformat_minor": 5
}
