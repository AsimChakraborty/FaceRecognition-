{
 "cells": [
  {
   "cell_type": "code",
   "execution_count": 1,
   "id": "34d7a6b6-8357-4552-8649-838cfe8bd5c0",
   "metadata": {},
   "outputs": [],
   "source": [
    "import os\n",
    "from newsapi import NewsApiClient\n"
   ]
  },
  {
   "cell_type": "code",
   "execution_count": null,
   "id": "7f139454-914a-4223-a649-c6635dda1616",
   "metadata": {},
   "outputs": [],
   "source": [
    "key = \"secret_key\"\n",
    "\n",
    "api = NewsApiClient(api_key=key)"
   ]
  }
 ],
 "metadata": {
  "kernelspec": {
   "display_name": "Python 3 (ipykernel)",
   "language": "python",
   "name": "python3"
  },
  "language_info": {
   "codemirror_mode": {
    "name": "ipython",
    "version": 3
   },
   "file_extension": ".py",
   "mimetype": "text/x-python",
   "name": "python",
   "nbconvert_exporter": "python",
   "pygments_lexer": "ipython3",
   "version": "3.10.6"
  }
 },
 "nbformat": 4,
 "nbformat_minor": 5
}
